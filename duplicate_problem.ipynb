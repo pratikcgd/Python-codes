{
 "cells": [
  {
   "cell_type": "code",
   "execution_count": 22,
   "id": "83c470f5",
   "metadata": {},
   "outputs": [],
   "source": [
    "import numpy as np\n",
    "import pandas as pd\n",
    "import seaborn as sns\n",
    "import matplotlib.pyplot as plt"
   ]
  },
  {
   "cell_type": "code",
   "execution_count": 23,
   "id": "42f1db72",
   "metadata": {},
   "outputs": [],
   "source": [
    "con_occ = pd.read_csv(\"condition_occurrence.csv\")"
   ]
  },
  {
   "cell_type": "code",
   "execution_count": 24,
   "id": "8d85288a",
   "metadata": {},
   "outputs": [
    {
     "data": {
      "text/plain": [
       "(2585683, 4)"
      ]
     },
     "execution_count": 24,
     "metadata": {},
     "output_type": "execute_result"
    }
   ],
   "source": [
    "con_occ.shape"
   ]
  },
  {
   "cell_type": "code",
   "execution_count": 25,
   "id": "9d9bd917",
   "metadata": {},
   "outputs": [],
   "source": [
    "con_occ = con_occ.sort_values(by = 'condition_occurrence_id')"
   ]
  },
  {
   "cell_type": "code",
   "execution_count": 26,
   "id": "0d2cf3df",
   "metadata": {},
   "outputs": [
    {
     "data": {
      "text/html": [
       "<div>\n",
       "<style scoped>\n",
       "    .dataframe tbody tr th:only-of-type {\n",
       "        vertical-align: middle;\n",
       "    }\n",
       "\n",
       "    .dataframe tbody tr th {\n",
       "        vertical-align: top;\n",
       "    }\n",
       "\n",
       "    .dataframe thead th {\n",
       "        text-align: right;\n",
       "    }\n",
       "</style>\n",
       "<table border=\"1\" class=\"dataframe\">\n",
       "  <thead>\n",
       "    <tr style=\"text-align: right;\">\n",
       "      <th></th>\n",
       "      <th>condition_occurrence_id</th>\n",
       "      <th>condition_concept_id</th>\n",
       "      <th>concept_source_value</th>\n",
       "      <th>concept_name (OMOP vocabularies)</th>\n",
       "    </tr>\n",
       "  </thead>\n",
       "  <tbody>\n",
       "    <tr>\n",
       "      <th>126</th>\n",
       "      <td>12</td>\n",
       "      <td>4051466</td>\n",
       "      <td>Asthma</td>\n",
       "      <td>Childhood asthma</td>\n",
       "    </tr>\n",
       "    <tr>\n",
       "      <th>255</th>\n",
       "      <td>12</td>\n",
       "      <td>4233784</td>\n",
       "      <td>Asthma</td>\n",
       "      <td>Asthmatic bronchitis</td>\n",
       "    </tr>\n",
       "    <tr>\n",
       "      <th>748</th>\n",
       "      <td>19</td>\n",
       "      <td>4159739</td>\n",
       "      <td>Left Osteoarthritis - Knee</td>\n",
       "      <td>Arthritis of knee</td>\n",
       "    </tr>\n",
       "    <tr>\n",
       "      <th>127</th>\n",
       "      <td>19</td>\n",
       "      <td>4079750</td>\n",
       "      <td>Left Osteoarthritis - Knee</td>\n",
       "      <td>Osteoarthritis of knee</td>\n",
       "    </tr>\n",
       "    <tr>\n",
       "      <th>128</th>\n",
       "      <td>21</td>\n",
       "      <td>4089050</td>\n",
       "      <td>Review</td>\n",
       "      <td>Follow-up visit</td>\n",
       "    </tr>\n",
       "    <tr>\n",
       "      <th>...</th>\n",
       "      <td>...</td>\n",
       "      <td>...</td>\n",
       "      <td>...</td>\n",
       "      <td>...</td>\n",
       "    </tr>\n",
       "    <tr>\n",
       "      <th>2011079</th>\n",
       "      <td>5030418</td>\n",
       "      <td>4075076</td>\n",
       "      <td>Reminder</td>\n",
       "      <td>Reminding</td>\n",
       "    </tr>\n",
       "    <tr>\n",
       "      <th>1987126</th>\n",
       "      <td>5030440</td>\n",
       "      <td>4075076</td>\n",
       "      <td>Reminder</td>\n",
       "      <td>Reminding</td>\n",
       "    </tr>\n",
       "    <tr>\n",
       "      <th>2011080</th>\n",
       "      <td>5030440</td>\n",
       "      <td>440195</td>\n",
       "      <td>Reminder</td>\n",
       "      <td>Congenital aniridia</td>\n",
       "    </tr>\n",
       "    <tr>\n",
       "      <th>2066421</th>\n",
       "      <td>5030448</td>\n",
       "      <td>440195</td>\n",
       "      <td>Reminder</td>\n",
       "      <td>Congenital aniridia</td>\n",
       "    </tr>\n",
       "    <tr>\n",
       "      <th>2585682</th>\n",
       "      <td>5030448</td>\n",
       "      <td>4075076</td>\n",
       "      <td>Reminder</td>\n",
       "      <td>Reminding</td>\n",
       "    </tr>\n",
       "  </tbody>\n",
       "</table>\n",
       "<p>2585683 rows × 4 columns</p>\n",
       "</div>"
      ],
      "text/plain": [
       "         condition_occurrence_id  condition_concept_id  \\\n",
       "126                           12               4051466   \n",
       "255                           12               4233784   \n",
       "748                           19               4159739   \n",
       "127                           19               4079750   \n",
       "128                           21               4089050   \n",
       "...                          ...                   ...   \n",
       "2011079                  5030418               4075076   \n",
       "1987126                  5030440               4075076   \n",
       "2011080                  5030440                440195   \n",
       "2066421                  5030448                440195   \n",
       "2585682                  5030448               4075076   \n",
       "\n",
       "               concept_source_value concept_name (OMOP vocabularies)  \n",
       "126                          Asthma                 Childhood asthma  \n",
       "255                          Asthma             Asthmatic bronchitis  \n",
       "748      Left Osteoarthritis - Knee                Arthritis of knee  \n",
       "127      Left Osteoarthritis - Knee           Osteoarthritis of knee  \n",
       "128                          Review                  Follow-up visit  \n",
       "...                             ...                              ...  \n",
       "2011079                    Reminder                        Reminding  \n",
       "1987126                    Reminder                        Reminding  \n",
       "2011080                    Reminder              Congenital aniridia  \n",
       "2066421                    Reminder              Congenital aniridia  \n",
       "2585682                    Reminder                        Reminding  \n",
       "\n",
       "[2585683 rows x 4 columns]"
      ]
     },
     "execution_count": 26,
     "metadata": {},
     "output_type": "execute_result"
    }
   ],
   "source": [
    "con_occ"
   ]
  },
  {
   "cell_type": "code",
   "execution_count": 33,
   "id": "2c564814",
   "metadata": {},
   "outputs": [
    {
     "data": {
      "text/plain": [
       "URTI                     656544\n",
       "Depression               120425\n",
       "Back pain                 82069\n",
       "Asthma                    71354\n",
       "Hypercholesterolaemia     65010\n",
       "NIDDM                     60348\n",
       "Skin infection            52670\n",
       "Cough                     48816\n",
       "Check up                  46986\n",
       "Sinusitis                 41682\n",
       "Name: concept_source_value, dtype: int64"
      ]
     },
     "execution_count": 33,
     "metadata": {},
     "output_type": "execute_result"
    }
   ],
   "source": [
    "con_occ['concept_source_value'].value_counts().head(10)"
   ]
  },
  {
   "cell_type": "code",
   "execution_count": 34,
   "id": "8150c915",
   "metadata": {},
   "outputs": [
    {
     "data": {
      "text/plain": [
       "Acute upper respiratory infection          150044\n",
       "Viral upper respiratory tract infection    138620\n",
       "Bacterial upper respiratory infection      127262\n",
       "Heat pyrexia                               115011\n",
       "Hyperpyrexia                               114980\n",
       "Urticaria                                   84879\n",
       "Asthmatic bronchitis                        66075\n",
       "Childhood asthma                            39185\n",
       "Depressed mood                              38457\n",
       "Dog bite - wound                            35378\n",
       "Name: concept_name (OMOP vocabularies), dtype: int64"
      ]
     },
     "execution_count": 34,
     "metadata": {},
     "output_type": "execute_result"
    }
   ],
   "source": [
    "con_occ['concept_name (OMOP vocabularies)'].value_counts().head(10)"
   ]
  },
  {
   "cell_type": "code",
   "execution_count": null,
   "id": "02ba21f7",
   "metadata": {},
   "outputs": [],
   "source": []
  },
  {
   "cell_type": "code",
   "execution_count": null,
   "id": "aa8f0636",
   "metadata": {},
   "outputs": [],
   "source": []
  },
  {
   "cell_type": "code",
   "execution_count": 27,
   "id": "6bae1c19",
   "metadata": {},
   "outputs": [],
   "source": [
    "\n",
    "con_occ1 = con_occ[con_occ['condition_occurrence_id'].duplicated()]"
   ]
  },
  {
   "cell_type": "code",
   "execution_count": 28,
   "id": "ae8e1db4",
   "metadata": {},
   "outputs": [
    {
     "data": {
      "text/html": [
       "<div>\n",
       "<style scoped>\n",
       "    .dataframe tbody tr th:only-of-type {\n",
       "        vertical-align: middle;\n",
       "    }\n",
       "\n",
       "    .dataframe tbody tr th {\n",
       "        vertical-align: top;\n",
       "    }\n",
       "\n",
       "    .dataframe thead th {\n",
       "        text-align: right;\n",
       "    }\n",
       "</style>\n",
       "<table border=\"1\" class=\"dataframe\">\n",
       "  <thead>\n",
       "    <tr style=\"text-align: right;\">\n",
       "      <th></th>\n",
       "      <th>condition_occurrence_id</th>\n",
       "      <th>condition_concept_id</th>\n",
       "      <th>concept_source_value</th>\n",
       "      <th>concept_name (OMOP vocabularies)</th>\n",
       "    </tr>\n",
       "  </thead>\n",
       "  <tbody>\n",
       "    <tr>\n",
       "      <th>255</th>\n",
       "      <td>12</td>\n",
       "      <td>4233784</td>\n",
       "      <td>Asthma</td>\n",
       "      <td>Asthmatic bronchitis</td>\n",
       "    </tr>\n",
       "    <tr>\n",
       "      <th>127</th>\n",
       "      <td>19</td>\n",
       "      <td>4079750</td>\n",
       "      <td>Left Osteoarthritis - Knee</td>\n",
       "      <td>Osteoarthritis of knee</td>\n",
       "    </tr>\n",
       "    <tr>\n",
       "      <th>129</th>\n",
       "      <td>21</td>\n",
       "      <td>4174236</td>\n",
       "      <td>Review</td>\n",
       "      <td>Review of care plan</td>\n",
       "    </tr>\n",
       "    <tr>\n",
       "      <th>749</th>\n",
       "      <td>21</td>\n",
       "      <td>4081304</td>\n",
       "      <td>Review</td>\n",
       "      <td>Eccentric viewing</td>\n",
       "    </tr>\n",
       "    <tr>\n",
       "      <th>0</th>\n",
       "      <td>22</td>\n",
       "      <td>73300</td>\n",
       "      <td>Right Tenosynovitis</td>\n",
       "      <td>Radial styloid tenosynovitis</td>\n",
       "    </tr>\n",
       "    <tr>\n",
       "      <th>...</th>\n",
       "      <td>...</td>\n",
       "      <td>...</td>\n",
       "      <td>...</td>\n",
       "      <td>...</td>\n",
       "    </tr>\n",
       "    <tr>\n",
       "      <th>2066419</th>\n",
       "      <td>5030416</td>\n",
       "      <td>440195</td>\n",
       "      <td>Reminder</td>\n",
       "      <td>Congenital aniridia</td>\n",
       "    </tr>\n",
       "    <tr>\n",
       "      <th>1987124</th>\n",
       "      <td>5030417</td>\n",
       "      <td>4075076</td>\n",
       "      <td>Reminder</td>\n",
       "      <td>Reminding</td>\n",
       "    </tr>\n",
       "    <tr>\n",
       "      <th>2011079</th>\n",
       "      <td>5030418</td>\n",
       "      <td>4075076</td>\n",
       "      <td>Reminder</td>\n",
       "      <td>Reminding</td>\n",
       "    </tr>\n",
       "    <tr>\n",
       "      <th>2011080</th>\n",
       "      <td>5030440</td>\n",
       "      <td>440195</td>\n",
       "      <td>Reminder</td>\n",
       "      <td>Congenital aniridia</td>\n",
       "    </tr>\n",
       "    <tr>\n",
       "      <th>2585682</th>\n",
       "      <td>5030448</td>\n",
       "      <td>4075076</td>\n",
       "      <td>Reminder</td>\n",
       "      <td>Reminding</td>\n",
       "    </tr>\n",
       "  </tbody>\n",
       "</table>\n",
       "<p>1530168 rows × 4 columns</p>\n",
       "</div>"
      ],
      "text/plain": [
       "         condition_occurrence_id  condition_concept_id  \\\n",
       "255                           12               4233784   \n",
       "127                           19               4079750   \n",
       "129                           21               4174236   \n",
       "749                           21               4081304   \n",
       "0                             22                 73300   \n",
       "...                          ...                   ...   \n",
       "2066419                  5030416                440195   \n",
       "1987124                  5030417               4075076   \n",
       "2011079                  5030418               4075076   \n",
       "2011080                  5030440                440195   \n",
       "2585682                  5030448               4075076   \n",
       "\n",
       "               concept_source_value concept_name (OMOP vocabularies)  \n",
       "255                          Asthma             Asthmatic bronchitis  \n",
       "127      Left Osteoarthritis - Knee           Osteoarthritis of knee  \n",
       "129                          Review              Review of care plan  \n",
       "749                          Review                Eccentric viewing  \n",
       "0               Right Tenosynovitis     Radial styloid tenosynovitis  \n",
       "...                             ...                              ...  \n",
       "2066419                    Reminder              Congenital aniridia  \n",
       "1987124                    Reminder                        Reminding  \n",
       "2011079                    Reminder                        Reminding  \n",
       "2011080                    Reminder              Congenital aniridia  \n",
       "2585682                    Reminder                        Reminding  \n",
       "\n",
       "[1530168 rows x 4 columns]"
      ]
     },
     "execution_count": 28,
     "metadata": {},
     "output_type": "execute_result"
    }
   ],
   "source": [
    "con_occ1"
   ]
  },
  {
   "cell_type": "code",
   "execution_count": null,
   "id": "16b311d2",
   "metadata": {},
   "outputs": [],
   "source": []
  },
  {
   "cell_type": "code",
   "execution_count": null,
   "id": "06b01601",
   "metadata": {},
   "outputs": [],
   "source": []
  },
  {
   "cell_type": "code",
   "execution_count": null,
   "id": "31c94fad",
   "metadata": {},
   "outputs": [],
   "source": []
  },
  {
   "cell_type": "code",
   "execution_count": null,
   "id": "eb26816c",
   "metadata": {},
   "outputs": [],
   "source": []
  },
  {
   "cell_type": "code",
   "execution_count": null,
   "id": "cb1216da",
   "metadata": {},
   "outputs": [],
   "source": []
  },
  {
   "cell_type": "code",
   "execution_count": null,
   "id": "c5b5d9a3",
   "metadata": {},
   "outputs": [],
   "source": []
  },
  {
   "cell_type": "code",
   "execution_count": null,
   "id": "2ae9616d",
   "metadata": {},
   "outputs": [],
   "source": []
  },
  {
   "cell_type": "code",
   "execution_count": null,
   "id": "e4b3b4f9",
   "metadata": {},
   "outputs": [],
   "source": []
  },
  {
   "cell_type": "code",
   "execution_count": null,
   "id": "f1061c2d",
   "metadata": {},
   "outputs": [],
   "source": []
  },
  {
   "cell_type": "code",
   "execution_count": null,
   "id": "2ba23114",
   "metadata": {},
   "outputs": [],
   "source": []
  },
  {
   "cell_type": "code",
   "execution_count": null,
   "id": "5628df7c",
   "metadata": {},
   "outputs": [],
   "source": []
  },
  {
   "cell_type": "code",
   "execution_count": null,
   "id": "431bf921",
   "metadata": {},
   "outputs": [],
   "source": []
  },
  {
   "cell_type": "code",
   "execution_count": null,
   "id": "79ca7de8",
   "metadata": {},
   "outputs": [],
   "source": []
  },
  {
   "cell_type": "code",
   "execution_count": null,
   "id": "dcce69da",
   "metadata": {},
   "outputs": [],
   "source": []
  },
  {
   "cell_type": "code",
   "execution_count": null,
   "id": "a0bd66e3",
   "metadata": {},
   "outputs": [],
   "source": []
  },
  {
   "cell_type": "code",
   "execution_count": null,
   "id": "cf0feeb8",
   "metadata": {},
   "outputs": [],
   "source": []
  },
  {
   "cell_type": "code",
   "execution_count": null,
   "id": "3e821ac4",
   "metadata": {},
   "outputs": [],
   "source": []
  },
  {
   "cell_type": "code",
   "execution_count": null,
   "id": "f7d072f5",
   "metadata": {},
   "outputs": [],
   "source": []
  }
 ],
 "metadata": {
  "kernelspec": {
   "display_name": "Python 3",
   "language": "python",
   "name": "python3"
  },
  "language_info": {
   "codemirror_mode": {
    "name": "ipython",
    "version": 3
   },
   "file_extension": ".py",
   "mimetype": "text/x-python",
   "name": "python",
   "nbconvert_exporter": "python",
   "pygments_lexer": "ipython3",
   "version": "3.8.8"
  }
 },
 "nbformat": 4,
 "nbformat_minor": 5
}
