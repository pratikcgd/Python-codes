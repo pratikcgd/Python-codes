{
 "cells": [
  {
   "cell_type": "code",
   "execution_count": 327,
   "id": "e835e55b",
   "metadata": {},
   "outputs": [],
   "source": [
    "import requests\n",
    "#from pyquery import PyQuery as pq\n",
    "import lxml.html as lh\n",
    "from lxml.html import fromstring\n",
    "import urllib.request"
   ]
  },
  {
   "cell_type": "code",
   "execution_count": 328,
   "id": "64ebc83b",
   "metadata": {},
   "outputs": [],
   "source": [
    "uri=\"https://utslogin.nlm.nih.gov\"\n",
    "#option 1 - username/pw authentication at /cas/v1/tickets\n",
    "#auth_endpoint = \"/cas/v1/tickets/\"\n",
    "#option 2 - api key authentication at /cas/v1/api-key\n",
    "auth_endpoint = \"/cas/v1/api-key\"\n"
   ]
  },
  {
   "cell_type": "code",
   "execution_count": 329,
   "id": "d2f92a74",
   "metadata": {},
   "outputs": [],
   "source": [
    "class Authentication:\n",
    "    \n",
    "   #def __init__(self, username,password):\n",
    "   def __init__(self, apikey):\n",
    "    #self.username=username\n",
    "    #self.password=password\n",
    "    self.apikey=apikey\n",
    "    self.service=\"http://umlsks.nlm.nih.gov\"\n",
    "\n",
    "   def gettgt(self):\n",
    "     #params = {'username': self.username,'password': self.password}\n",
    "     params = {'apikey': self.apikey}\n",
    "     h = {\"Content-type\": \"application/x-www-form-urlencoded\", \"Accept\": \"text/plain\", \"User-Agent\":\"python\" }\n",
    "     r = requests.post(uri+auth_endpoint,data=params,headers=h)\n",
    "     response = fromstring(r.text)\n",
    "     ## extract the entire URL needed from the HTML form (action attribute) returned - looks similar to https://utslogin.nlm.nih.gov/cas/v1/tickets/TGT-36471-aYqNLN2rFIJPXKzxwdTNC5ZT7z3B3cTAKfSc5ndHQcUxeaDOLN-cas\n",
    "     ## we make a POST call to this URL in the getst method\n",
    "     tgt = response.xpath('//form/@action')[0]\n",
    "     return tgt\n",
    "\n",
    "   def getst(self,tgt):\n",
    "\n",
    "     params = {'service': self.service}\n",
    "     h = {\"Content-type\": \"application/x-www-form-urlencoded\", \"Accept\": \"text/plain\", \"User-Agent\":\"python\" }\n",
    "     r = requests.post(tgt,data=params,headers=h)\n",
    "     st = r.text\n",
    "     return st"
   ]
  },
  {
   "cell_type": "code",
   "execution_count": 330,
   "id": "6342395d",
   "metadata": {},
   "outputs": [],
   "source": [
    "tst1 = Authentication('c4034db0-17d5-49f6-9334-02cbf455f4e6')"
   ]
  },
  {
   "cell_type": "code",
   "execution_count": 331,
   "id": "d8dd28cc",
   "metadata": {},
   "outputs": [],
   "source": [
    "ticket = tst1.gettgt()"
   ]
  },
  {
   "cell_type": "code",
   "execution_count": 332,
   "id": "68ee9a27",
   "metadata": {},
   "outputs": [],
   "source": [
    "serticket= tst1.getst(ticket)"
   ]
  },
  {
   "cell_type": "code",
   "execution_count": 333,
   "id": "2929a126",
   "metadata": {},
   "outputs": [],
   "source": [
    "import urllib.request"
   ]
  },
  {
   "cell_type": "code",
   "execution_count": 334,
   "id": "36947239",
   "metadata": {},
   "outputs": [
    {
     "name": "stdout",
     "output_type": "stream",
     "text": [
      "ST-1227347-0ZD5DhpGJRrZLTFQhQV7-cas\n"
     ]
    }
   ],
   "source": [
    "print(serticket)"
   ]
  },
  {
   "cell_type": "code",
   "execution_count": 335,
   "id": "dd387358",
   "metadata": {},
   "outputs": [
    {
     "name": "stdout",
     "output_type": "stream",
     "text": [
      "Enter keyword : muscle ache, runny nose\n",
      "Ready for processing\n",
      "muscle%20ache,%20runny%20nose\n"
     ]
    }
   ],
   "source": [
    "search = str(input('Enter keyword : '))\n",
    "\n",
    "if ' ' in search:\n",
    "    search = search.replace(' ','%20')\n",
    "    print('Ready for processing')\n",
    "    print(search)\n",
    "else:\n",
    "    print('No spaces')"
   ]
  },
  {
   "cell_type": "code",
   "execution_count": 336,
   "id": "17d79593",
   "metadata": {},
   "outputs": [],
   "source": [
    "search = str.lower(search)"
   ]
  },
  {
   "cell_type": "code",
   "execution_count": 337,
   "id": "235b9240",
   "metadata": {},
   "outputs": [],
   "source": [
    "url = 'https://uts-ws.nlm.nih.gov/rest/search/current?string='+search+'&ticket='+str(serticket)"
   ]
  },
  {
   "cell_type": "code",
   "execution_count": 338,
   "id": "562ff229",
   "metadata": {},
   "outputs": [
    {
     "name": "stdout",
     "output_type": "stream",
     "text": [
      "code :  200\n",
      "b'{\"pageSize\":25,\"pageNumber\":1,\"result\":{\"classType\":\"searchResults\",\"results\":[{\"ui\":\"NONE\",\"name\":\"NO RESULTS\"}]}}'\n"
     ]
    }
   ],
   "source": [
    "webUrl = urllib.request.urlopen(url)\n",
    "print('code : ', str(webUrl.getcode()))\n",
    "data = webUrl.read()\n",
    "print (data)"
   ]
  },
  {
   "cell_type": "code",
   "execution_count": 260,
   "id": "fba88eeb",
   "metadata": {},
   "outputs": [
    {
     "data": {
      "text/plain": [
       "True"
      ]
     },
     "execution_count": 260,
     "metadata": {},
     "output_type": "execute_result"
    }
   ],
   "source": [
    "import webbrowser\n",
    "\n",
    "webbrowser.register('chrome',None,webbrowser.BackgroundBrowser(\"C://Program Files//Google//Chrome//Application//chrome.exe\"))\n",
    "webbrowser.get('chrome').open(url)"
   ]
  },
  {
   "cell_type": "code",
   "execution_count": null,
   "id": "3ed62f51",
   "metadata": {},
   "outputs": [],
   "source": []
  },
  {
   "cell_type": "code",
   "execution_count": null,
   "id": "4c6d546e",
   "metadata": {},
   "outputs": [],
   "source": []
  },
  {
   "cell_type": "code",
   "execution_count": null,
   "id": "03476b55",
   "metadata": {},
   "outputs": [],
   "source": []
  },
  {
   "cell_type": "code",
   "execution_count": null,
   "id": "5fa113e4",
   "metadata": {},
   "outputs": [],
   "source": []
  },
  {
   "cell_type": "code",
   "execution_count": null,
   "id": "c754971b",
   "metadata": {},
   "outputs": [],
   "source": []
  }
 ],
 "metadata": {
  "kernelspec": {
   "display_name": "Python 3",
   "language": "python",
   "name": "python3"
  },
  "language_info": {
   "codemirror_mode": {
    "name": "ipython",
    "version": 3
   },
   "file_extension": ".py",
   "mimetype": "text/x-python",
   "name": "python",
   "nbconvert_exporter": "python",
   "pygments_lexer": "ipython3",
   "version": "3.8.8"
  }
 },
 "nbformat": 4,
 "nbformat_minor": 5
}
